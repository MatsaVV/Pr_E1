{
 "cells": [
  {
   "cell_type": "code",
   "execution_count": 11,
   "metadata": {},
   "outputs": [
    {
     "name": "stdout",
     "output_type": "stream",
     "text": [
      "Requirement already satisfied: pymysql in /home/mathieu/.pyenv/versions/3.10.6/envs/lewagon/lib/python3.10/site-packages (1.1.1)\n",
      "Requirement already satisfied: sqlalchemy in /home/mathieu/.pyenv/versions/3.10.6/envs/lewagon/lib/python3.10/site-packages (2.0.30)\n",
      "Requirement already satisfied: pandas in /home/mathieu/.pyenv/versions/3.10.6/envs/lewagon/lib/python3.10/site-packages (2.2.2)\n",
      "Requirement already satisfied: typing-extensions>=4.6.0 in /home/mathieu/.pyenv/versions/3.10.6/envs/lewagon/lib/python3.10/site-packages (from sqlalchemy) (4.12.2)\n",
      "Requirement already satisfied: greenlet!=0.4.17 in /home/mathieu/.pyenv/versions/3.10.6/envs/lewagon/lib/python3.10/site-packages (from sqlalchemy) (3.0.3)\n",
      "Requirement already satisfied: numpy>=1.22.4 in /home/mathieu/.pyenv/versions/3.10.6/envs/lewagon/lib/python3.10/site-packages (from pandas) (1.23.5)\n",
      "Requirement already satisfied: python-dateutil>=2.8.2 in /home/mathieu/.pyenv/versions/3.10.6/envs/lewagon/lib/python3.10/site-packages (from pandas) (2.9.0.post0)\n",
      "Requirement already satisfied: pytz>=2020.1 in /home/mathieu/.pyenv/versions/3.10.6/envs/lewagon/lib/python3.10/site-packages (from pandas) (2024.2)\n",
      "Requirement already satisfied: tzdata>=2022.7 in /home/mathieu/.pyenv/versions/3.10.6/envs/lewagon/lib/python3.10/site-packages (from pandas) (2024.1)\n",
      "Requirement already satisfied: six>=1.5 in /home/mathieu/.pyenv/versions/3.10.6/envs/lewagon/lib/python3.10/site-packages (from python-dateutil>=2.8.2->pandas) (1.16.0)\n",
      "\n",
      "\u001b[1m[\u001b[0m\u001b[34;49mnotice\u001b[0m\u001b[1;39;49m]\u001b[0m\u001b[39;49m A new release of pip is available: \u001b[0m\u001b[31;49m24.2\u001b[0m\u001b[39;49m -> \u001b[0m\u001b[32;49m24.3.1\u001b[0m\n",
      "\u001b[1m[\u001b[0m\u001b[34;49mnotice\u001b[0m\u001b[1;39;49m]\u001b[0m\u001b[39;49m To update, run: \u001b[0m\u001b[32;49mpip install --upgrade pip\u001b[0m\n",
      "Note: you may need to restart the kernel to use updated packages.\n"
     ]
    }
   ],
   "source": [
    "pip install pymysql sqlalchemy pandas\n"
   ]
  },
  {
   "cell_type": "code",
   "execution_count": null,
   "metadata": {},
   "outputs": [],
   "source": [
    "import pandas as pd\n",
    "import pymysql\n",
    "from sqlalchemy import create_engine\n",
    "from dotenv import load_dotenv\n",
    "import os\n",
    "\n",
    "# Charger les variables d'environnement du fichier .env\n",
    "load_dotenv()\n",
    "\n",
    "# Récupérer DATABASE_URL depuis .env\n",
    "DATABASE_URL = os.getenv(\"DATABASE_URL\")\n",
    "\n",
    "# Charger les fichiers CSV\n",
    "authors_date = pd.read_csv(\"authors_date_table.csv\")\n",
    "authors_top5 = pd.read_csv(\"authors_top5_table.csv\")\n",
    "\n",
    "# Utiliser DATABASE_URL pour établir la connexion\n",
    "engine = create_engine(DATABASE_URL)\n",
    "\n",
    "# Charger les données dans la base de données\n",
    "authors_date.to_sql(\"authors_date_table\", con=engine, if_exists=\"replace\", index=False)\n",
    "authors_top5.to_sql(\"authors_top5_table\", con=engine, if_exists=\"replace\", index=False)\n",
    "\n",
    "print(\"Data imported successfully!\")\n"
   ]
  },
  {
   "cell_type": "code",
   "execution_count": null,
   "metadata": {},
   "outputs": [],
   "source": []
  }
 ],
 "metadata": {
  "kernelspec": {
   "display_name": "Python 3",
   "language": "python",
   "name": "python3"
  },
  "language_info": {
   "codemirror_mode": {
    "name": "ipython",
    "version": 3
   },
   "file_extension": ".py",
   "mimetype": "text/x-python",
   "name": "python",
   "nbconvert_exporter": "python",
   "pygments_lexer": "ipython3",
   "version": "3.10.6"
  }
 },
 "nbformat": 4,
 "nbformat_minor": 2
}
